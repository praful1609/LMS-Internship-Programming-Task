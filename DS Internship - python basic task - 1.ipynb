{
 "cells": [
  {
   "cell_type": "code",
   "execution_count": 1,
   "id": "5b7bc5ef",
   "metadata": {},
   "outputs": [
    {
     "name": "stdout",
     "output_type": "stream",
     "text": [
      "Hello World!\n"
     ]
    }
   ],
   "source": [
    "#Answer\n",
    "string = \"Hello World!\"\n",
    "print(string)"
   ]
  },
  {
   "cell_type": "code",
   "execution_count": 9,
   "id": "2d8afcc6",
   "metadata": {},
   "outputs": [
    {
     "name": "stdout",
     "output_type": "stream",
     "text": [
      "21\n",
      "Weird\n"
     ]
    }
   ],
   "source": [
    "#Answer 2\n",
    "n=int(input())\n",
    "if n < 1:\n",
    "    print(\"Enter number greater than 1\")\n",
    "if (n%2==1):\n",
    "    print(\"Weird\")\n",
    "if (n%2==0) and n in range(2,6):\n",
    "    print(\"Not Weird\")\n",
    "if (n%2==0) and n in range(6,21):\n",
    "    print(\"Weird\")\n",
    "else:\n",
    "    if (n%2==0) and n>20:\n",
    "        print(\"Not weird\")\n",
    "    "
   ]
  },
  {
   "cell_type": "code",
   "execution_count": 11,
   "id": "ad63948f",
   "metadata": {},
   "outputs": [
    {
     "name": "stdout",
     "output_type": "stream",
     "text": [
      "2\n",
      "6\n",
      "addition is equal to: 8\n",
      "subtraction is equal to: -4\n",
      "multiplication is equal to: 12\n"
     ]
    }
   ],
   "source": [
    "#Answer 3\n",
    "a = int(input())\n",
    "b = int(input())\n",
    "\n",
    "addition = a+b\n",
    "subtraction = a-b\n",
    "multiplicatation = a*b\n",
    "    \n",
    "print(f\"addition is equal to: {addition}\")\n",
    "print(f\"subtraction is equal to: {subtraction}\")\n",
    "print(f\"multiplication is equal to: {multiplicatation}\")"
   ]
  },
  {
   "cell_type": "code",
   "execution_count": 14,
   "id": "4dc9bf10",
   "metadata": {},
   "outputs": [
    {
     "name": "stdout",
     "output_type": "stream",
     "text": [
      "5\n",
      "2\n",
      "floor_div: 2\n",
      "div: 2.5\n"
     ]
    }
   ],
   "source": [
    "#Answer 4\n",
    "a = int(input())\n",
    "b = int(input())\n",
    "    \n",
    "div = a/b\n",
    "floor_div = a//b\n",
    "    \n",
    "print(f\"floor_div: {floor_div}\")\n",
    "print(f\"div: {div}\")"
   ]
  },
  {
   "cell_type": "code",
   "execution_count": 15,
   "id": "641fae52",
   "metadata": {},
   "outputs": [
    {
     "name": "stdout",
     "output_type": "stream",
     "text": [
      "5\n",
      "0\n",
      "1\n",
      "4\n",
      "9\n",
      "16\n"
     ]
    }
   ],
   "source": [
    "#Answer 5\n",
    "n = int(input())\n",
    "for i in range(n):\n",
    "    squared = i**2\n",
    "    print(squared)"
   ]
  },
  {
   "cell_type": "code",
   "execution_count": 29,
   "id": "fdd41692",
   "metadata": {},
   "outputs": [
    {
     "name": "stdout",
     "output_type": "stream",
     "text": [
      "2024\n",
      "True\n"
     ]
    }
   ],
   "source": [
    "#Answer 6\n",
    "def is_leap(year):\n",
    "    leap = False\n",
    "    if 1900 <= year <=10**5:\n",
    "        if ((year%4==0) and (year%100 != 0) or (year%100==0) and (year%400==0)):\n",
    "            return True\n",
    "        else:\n",
    "            return False\n",
    "    return False\n",
    "    return leap\n",
    "    \n",
    "year = int(input())\n",
    "print(is_leap(year))\n",
    "        "
   ]
  },
  {
   "cell_type": "code",
   "execution_count": 30,
   "id": "a97ff300",
   "metadata": {},
   "outputs": [
    {
     "name": "stdout",
     "output_type": "stream",
     "text": [
      "5\n",
      "12345"
     ]
    }
   ],
   "source": [
    "#Answer 7\n",
    "n = int(input())\n",
    "if 1<= n <= 150:\n",
    "    for i in range(1,n+1):\n",
    "        print(i, end=\"\")\n",
    "            "
   ]
  },
  {
   "cell_type": "code",
   "execution_count": null,
   "id": "ddbab1de",
   "metadata": {},
   "outputs": [],
   "source": []
  }
 ],
 "metadata": {
  "kernelspec": {
   "display_name": "Python 3 (ipykernel)",
   "language": "python",
   "name": "python3"
  },
  "language_info": {
   "codemirror_mode": {
    "name": "ipython",
    "version": 3
   },
   "file_extension": ".py",
   "mimetype": "text/x-python",
   "name": "python",
   "nbconvert_exporter": "python",
   "pygments_lexer": "ipython3",
   "version": "3.9.12"
  }
 },
 "nbformat": 4,
 "nbformat_minor": 5
}
